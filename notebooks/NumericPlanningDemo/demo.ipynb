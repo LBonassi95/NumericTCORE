{
 "cells": [
  {
   "cell_type": "code",
   "execution_count": 49,
   "metadata": {},
   "outputs": [],
   "source": [
    "from unified_planning.model import problem\n",
    "from unified_planning.shortcuts import *\n",
    "from unified_planning.io.pddl_reader import PDDLReader\n",
    "from unified_planning.engines.compilers.grounder import Grounder\n",
    "from unified_planning.engines.compilers.trajectory_constraints_remover import TrajectoryConstraintsRemover"
   ]
  },
  {
   "cell_type": "code",
   "execution_count": 50,
   "metadata": {},
   "outputs": [],
   "source": [
    "reader = PDDLReader()\n",
    "problem = reader.parse_problem('domain.pddl', 'problem.pddl')"
   ]
  },
  {
   "cell_type": "code",
   "execution_count": 51,
   "metadata": {},
   "outputs": [
    {
     "name": "stdout",
     "output_type": "stream",
     "text": [
      "\u001b[96m  *** Credits ***\n",
      "\u001b[0m\u001b[96m  * In operation mode `OneshotPlanner` at line 5 of `/tmp/ipykernel_129689/1077433113.py`, \u001b[0m\u001b[96myou are using the following planning engine:\n",
      "\u001b[0m\u001b[96m  * Engine name: ENHSP\n",
      "  * Developers:  Enrico Scala\n",
      "\u001b[0m\u001b[96m  * Description: \u001b[0m\u001b[96mExpressive Numeric Heuristic Search Planner.\u001b[0m\u001b[96m\n",
      "\u001b[0m\u001b[96m\n",
      "\u001b[0mSAT-enhsp returned: [move-down_a1, move-left_a1, plant-flag_a1_f2, move-up_a1, move-up_a1, move-right_a1, move-right_a1, plant-flag_a1_f1]\n"
     ]
    },
    {
     "data": {
      "text/plain": [
       "problem name = grounder_flag1\n",
       "\n",
       "types = [agent, flag]\n",
       "\n",
       "fluents = [\n",
       "  bool planted[f=flag]\n",
       "  real x-position[a=agent]\n",
       "  real y-position[a=agent]\n",
       "  real x-flag[f=flag]\n",
       "  real y-flag[f=flag]\n",
       "]\n",
       "\n",
       "actions = [\n",
       "  action move-up_a1 {\n",
       "    preconditions = [\n",
       "    ]\n",
       "    effects = [\n",
       "      y-position(a1) += 1\n",
       "    ]\n",
       "    simulated effect = None\n",
       "  }\n",
       "  action move-down_a1 {\n",
       "    preconditions = [\n",
       "    ]\n",
       "    effects = [\n",
       "      y-position(a1) -= 1\n",
       "    ]\n",
       "    simulated effect = None\n",
       "  }\n",
       "  action move-left_a1 {\n",
       "    preconditions = [\n",
       "    ]\n",
       "    effects = [\n",
       "      x-position(a1) -= 1\n",
       "    ]\n",
       "    simulated effect = None\n",
       "  }\n",
       "  action move-right_a1 {\n",
       "    preconditions = [\n",
       "    ]\n",
       "    effects = [\n",
       "      x-position(a1) += 1\n",
       "    ]\n",
       "    simulated effect = None\n",
       "  }\n",
       "  action plant-flag_a1_f1 {\n",
       "    preconditions = [\n",
       "      (x-position(a1) == 1)\n",
       "      (y-position(a1) == 1)\n",
       "      (not planted(f1))\n",
       "    ]\n",
       "    effects = [\n",
       "      planted(f1) := true\n",
       "    ]\n",
       "    simulated effect = None\n",
       "  }\n",
       "  action plant-flag_a1_f2 {\n",
       "    preconditions = [\n",
       "      (x-position(a1) == -1)\n",
       "      (y-position(a1) == -1)\n",
       "      (not planted(f2))\n",
       "    ]\n",
       "    effects = [\n",
       "      planted(f2) := true\n",
       "    ]\n",
       "    simulated effect = None\n",
       "  }\n",
       "]\n",
       "\n",
       "objects = [\n",
       "  agent: [a1]\n",
       "  flag: [f1, f2]\n",
       "]\n",
       "\n",
       "initial fluents default = [\n",
       "  bool planted[f=flag] := false\n",
       "]\n",
       "\n",
       "initial values = [\n",
       "  x-position(a1) := 0\n",
       "  y-position(a1) := 0\n",
       "  x-flag(f1) := 1\n",
       "  y-flag(f1) := 1\n",
       "  x-flag(f2) := -1\n",
       "  y-flag(f2) := -1\n",
       "  planted(f1) := false\n",
       "  planted(f2) := false\n",
       "]\n",
       "\n",
       "goals = [\n",
       "  (planted(f1) and planted(f2))\n",
       "]\n"
      ]
     },
     "execution_count": 51,
     "metadata": {},
     "output_type": "execute_result"
    }
   ],
   "source": [
    "grounding_result = Grounder().compile(\n",
    "            problem, CompilationKind.GROUNDING\n",
    "        )\n",
    "ground_problem = grounding_result.problem\n",
    "with OneshotPlanner(problem_kind=ground_problem.kind) as planner:\n",
    "    result = planner.solve(ground_problem)\n",
    "    print(\"%s returned: %s\" % (planner.name, result.plan))\n",
    "ground_problem"
   ]
  },
  {
   "cell_type": "code",
   "execution_count": 52,
   "metadata": {},
   "outputs": [
    {
     "data": {
      "text/plain": [
       "Always(((y-position(a1) + 5) <= 0))"
      ]
     },
     "execution_count": 52,
     "metadata": {},
     "output_type": "execute_result"
    }
   ],
   "source": [
    "agent = UserType('agent')\n",
    "a1 = Object('a1', agent)\n",
    "ypos = Fluent('y-position', RealType(), a=agent)\n",
    "Always(LE(Plus(ypos(a1), 5), 0))"
   ]
  },
  {
   "cell_type": "code",
   "execution_count": null,
   "metadata": {},
   "outputs": [],
   "source": []
  }
 ],
 "metadata": {
  "kernelspec": {
   "display_name": "Python 3.8.12 ('luigi_planning')",
   "language": "python",
   "name": "python3"
  },
  "language_info": {
   "codemirror_mode": {
    "name": "ipython",
    "version": 3
   },
   "file_extension": ".py",
   "mimetype": "text/x-python",
   "name": "python",
   "nbconvert_exporter": "python",
   "pygments_lexer": "ipython3",
   "version": "3.8.12"
  },
  "orig_nbformat": 4,
  "vscode": {
   "interpreter": {
    "hash": "7ba2f74e4db1820d708f0533f578f7524ef7c4299fdcf4d21b076e0a6921c1c4"
   }
  }
 },
 "nbformat": 4,
 "nbformat_minor": 2
}
