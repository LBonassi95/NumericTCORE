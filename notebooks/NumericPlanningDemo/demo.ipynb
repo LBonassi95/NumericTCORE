{
 "cells": [
  {
   "cell_type": "code",
   "execution_count": 1,
   "metadata": {},
   "outputs": [],
   "source": [
    "from unified_planning.model import problem\n",
    "from unified_planning.shortcuts import *\n",
    "from unified_planning.io.pddl_reader import PDDLReader\n",
    "from unified_planning.engines.compilers.grounder import Grounder\n",
    "from numeric_tcore.compilation import NumericCompiler\n",
    "from unified_planning.model.fnode import FNode\n",
    "from unified_planning.model.walkers.state_evaluator import StateEvaluator\n",
    "from unified_planning.engines.compilers.conditional_effects_remover import ConditionalEffectsRemover\n",
    "from numeric_tcore.numeric_regression import *"
   ]
  },
  {
   "cell_type": "code",
   "execution_count": 2,
   "metadata": {},
   "outputs": [],
   "source": [
    "reader = PDDLReader()\n",
    "problem = reader.parse_problem('sailing/domain.pddl', 'sailing/instance_1_1_1229.pddl')"
   ]
  },
  {
   "cell_type": "code",
   "execution_count": 3,
   "metadata": {},
   "outputs": [
    {
     "name": "stdout",
     "output_type": "stream",
     "text": [
      "\u001b[96m\u001b[1mNOTE: To disable printing of planning engine credits, add this line to your code: `up.shortcuts.get_env().credits_stream = None`\n",
      "\u001b[0m\u001b[96m  *** Credits ***\n",
      "\u001b[0m\u001b[96m  * In operation mode `OneshotPlanner` at line 1 of `/tmp/ipykernel_38222/1163342592.py`, \u001b[0m\u001b[96myou are using the following planning engine:\n",
      "\u001b[0m\u001b[96m  * Engine name: ENHSP\n",
      "  * Developers:  Enrico Scala\n",
      "\u001b[0m\u001b[96m  * Description: \u001b[0m\u001b[96mExpressive Numeric Heuristic Search Planner.\u001b[0m\u001b[96m\n",
      "\u001b[0m\u001b[96m\n",
      "\u001b[0mPlanGenerationResult(status=<PlanGenerationResultStatus.SOLVED_SATISFICING: 1>, plan=[go_south_east(b0), go_south_east(b0), go_south_east(b0), go_south_east(b0), go_south_east(b0), go_south_east(b0), go_south_east(b0), go_south_east(b0), go_south_east(b0), go_south_east(b0), go_south_east(b0), go_south_east(b0), go_south_east(b0), go_south_east(b0), go_south_east(b0), go_south_east(b0), go_south_east(b0), go_south_east(b0), go_south_east(b0), go_south_east(b0), go_south_east(b0), go_south_east(b0), go_south_east(b0), go_south_east(b0), go_south_east(b0), go_south_east(b0), go_south_east(b0), go_south_east(b0), go_south_east(b0), go_south_east(b0), go_south_east(b0), go_south_east(b0), go_south_east(b0), go_south_east(b0), go_south_east(b0), go_south_east(b0), go_south_east(b0), go_south_east(b0), go_south_east(b0), go_south_east(b0), go_south_east(b0), go_south_east(b0), go_south_east(b0), go_south_east(b0), go_south_east(b0), go_south_east(b0), go_south_east(b0), go_south_east(b0), go_south_east(b0), go_south_east(b0), go_south_east(b0), go_south_east(b0), go_south_east(b0), go_south_east(b0), go_south_east(b0), go_south_east(b0), go_south_east(b0), go_south_east(b0), go_south_east(b0), go_south_east(b0), go_south_east(b0), go_south_east(b0), go_south_east(b0), go_south_east(b0), go_south_east(b0), go_south_east(b0), go_south_east(b0), go_south_east(b0), go_south_east(b0), go_south_east(b0), go_south_east(b0), go_south_east(b0), go_south_east(b0), go_south_east(b0), go_south_east(b0), go_south_east(b0), go_south_east(b0), go_south_east(b0), go_south_east(b0), go_south_east(b0), go_south_east(b0), go_south_east(b0), go_south_east(b0), go_south_east(b0), go_south_east(b0), go_south_east(b0), go_south_east(b0), go_south_west(b0), go_south_west(b0), go_south_west(b0), go_south_west(b0), go_south_west(b0), go_south_west(b0), go_south_west(b0), go_south_west(b0), go_south_west(b0), go_south_west(b0), go_south_west(b0), go_south_west(b0), go_south_west(b0), go_south_west(b0), go_south_west(b0), go_south_west(b0), go_south_west(b0), go_south_west(b0), go_south_west(b0), go_south_west(b0), go_south_west(b0), go_south_west(b0), go_south_west(b0), go_south_west(b0), go_south_west(b0), go_south_west(b0), go_south_west(b0), go_south_west(b0), go_south_west(b0), go_south_west(b0), go_south_west(b0), go_south_west(b0), go_south_west(b0), go_south_west(b0), go_south_west(b0), go_south_west(b0), go_south_west(b0), go_south_west(b0), go_south_west(b0), go_south_west(b0), go_south_west(b0), go_south_west(b0), go_south_west(b0), go_south_west(b0), go_south_west(b0), go_south_west(b0), go_south_west(b0), go_south_west(b0), go_south_west(b0), go_south_west(b0), go_south_west(b0), go_south_west(b0), go_south_west(b0), go_south_west(b0), go_south_west(b0), go_south_west(b0), go_south_west(b0), go_south_west(b0), go_south_west(b0), go_south_west(b0), go_south_west(b0), go_south_west(b0), go_south_west(b0), go_south_west(b0), go_south_west(b0), go_south_west(b0), go_south_west(b0), go_south_west(b0), go_south_west(b0), go_south_west(b0), go_south_west(b0), go_south_west(b0), go_south_west(b0), go_south_west(b0), go_south_west(b0), go_south_west(b0), go_south_west(b0), go_south_west(b0), go_south_west(b0), go_south_west(b0), go_south_west(b0), go_south_west(b0), go_south_west(b0), go_south_west(b0), go_south_west(b0), go_south_west(b0), save_person(b0, p0)], engine_name='SAT-enhsp', metrics=None, log_messages=[LogMessage(level=<LogLevel.INFO: 2>, message='Domain parsed\\nProblem parsed\\nGrounding..\\nGrounding Time: 13\\nAibr Preprocessing\\n|F|:1\\n|X|:2\\n|A|:8\\n|P|:0\\n|E|:0\\nH1 Setup Time (msec): 1\\nSetting horizon to:NaN\\nRunning Greedy Best First Search\\nh(n = s_0)=173.5\\n g(n)= 1.0 h(n)=172.5\\n g(n)= 2.0 h(n)=171.5\\n g(n)= 3.0 h(n)=170.5\\n g(n)= 4.0 h(n)=169.5\\n g(n)= 5.0 h(n)=168.5\\n g(n)= 6.0 h(n)=167.5\\n g(n)= 7.0 h(n)=166.5\\n g(n)= 8.0 h(n)=165.5\\n g(n)= 9.0 h(n)=164.5\\n g(n)= 10.0 h(n)=163.5\\n g(n)= 11.0 h(n)=162.5\\n g(n)= 12.0 h(n)=161.5\\n g(n)= 13.0 h(n)=160.5\\n g(n)= 14.0 h(n)=159.5\\n g(n)= 15.0 h(n)=158.5\\n g(n)= 16.0 h(n)=157.5\\n g(n)= 17.0 h(n)=156.5\\n g(n)= 18.0 h(n)=155.5\\n g(n)= 19.0 h(n)=154.5\\n g(n)= 20.0 h(n)=153.5\\n g(n)= 21.0 h(n)=152.5\\n g(n)= 22.0 h(n)=151.5\\n g(n)= 23.0 h(n)=150.5\\n g(n)= 24.0 h(n)=149.5\\n g(n)= 25.0 h(n)=148.5\\n g(n)= 26.0 h(n)=147.5\\n g(n)= 27.0 h(n)=146.5\\n g(n)= 28.0 h(n)=145.5\\n g(n)= 29.0 h(n)=144.5\\n g(n)= 30.0 h(n)=143.5\\n g(n)= 31.0 h(n)=142.5\\n g(n)= 32.0 h(n)=141.5\\n g(n)= 33.0 h(n)=140.5\\n g(n)= 34.0 h(n)=139.5\\n g(n)= 35.0 h(n)=138.5\\n g(n)= 36.0 h(n)=137.5\\n g(n)= 37.0 h(n)=136.5\\n g(n)= 38.0 h(n)=135.5\\n g(n)= 39.0 h(n)=134.5\\n g(n)= 40.0 h(n)=133.5\\n g(n)= 41.0 h(n)=132.5\\n g(n)= 42.0 h(n)=131.5\\n g(n)= 43.0 h(n)=130.5\\n g(n)= 44.0 h(n)=129.5\\n g(n)= 45.0 h(n)=128.5\\n g(n)= 46.0 h(n)=127.5\\n g(n)= 47.0 h(n)=126.5\\n g(n)= 48.0 h(n)=125.5\\n g(n)= 49.0 h(n)=124.5\\n g(n)= 50.0 h(n)=123.5\\n g(n)= 51.0 h(n)=122.5\\n g(n)= 52.0 h(n)=121.5\\n g(n)= 53.0 h(n)=120.5\\n g(n)= 54.0 h(n)=119.5\\n g(n)= 55.0 h(n)=118.5\\n g(n)= 56.0 h(n)=117.5\\n g(n)= 57.0 h(n)=116.5\\n g(n)= 58.0 h(n)=115.5\\n g(n)= 59.0 h(n)=114.5\\n g(n)= 60.0 h(n)=113.5\\n g(n)= 61.0 h(n)=112.5\\n g(n)= 62.0 h(n)=111.5\\n g(n)= 63.0 h(n)=110.5\\n g(n)= 64.0 h(n)=109.5\\n g(n)= 65.0 h(n)=108.5\\n g(n)= 66.0 h(n)=107.5\\n g(n)= 67.0 h(n)=106.5\\n g(n)= 68.0 h(n)=105.5\\n g(n)= 69.0 h(n)=104.5\\n g(n)= 70.0 h(n)=103.5\\n g(n)= 71.0 h(n)=102.5\\n g(n)= 72.0 h(n)=101.5\\n g(n)= 73.0 h(n)=100.5\\n g(n)= 74.0 h(n)=99.5\\n g(n)= 75.0 h(n)=98.5\\n g(n)= 76.0 h(n)=97.5\\n g(n)= 77.0 h(n)=96.5\\n g(n)= 78.0 h(n)=95.5\\n g(n)= 79.0 h(n)=94.5\\n g(n)= 80.0 h(n)=93.5\\n g(n)= 81.0 h(n)=92.5\\n g(n)= 82.0 h(n)=91.5\\n g(n)= 83.0 h(n)=90.5\\n g(n)= 84.0 h(n)=89.5\\n g(n)= 85.0 h(n)=88.5\\n g(n)= 86.0 h(n)=87.5\\n g(n)= 87.0 h(n)=86.5\\n g(n)= 88.0 h(n)=85.5\\n g(n)= 89.0 h(n)=84.5\\n g(n)= 90.0 h(n)=83.5\\n g(n)= 91.0 h(n)=82.5\\n g(n)= 92.0 h(n)=81.5\\n g(n)= 93.0 h(n)=80.5\\n g(n)= 94.0 h(n)=79.5\\n g(n)= 95.0 h(n)=78.5\\n g(n)= 96.0 h(n)=77.5\\n g(n)= 97.0 h(n)=76.5\\n g(n)= 98.0 h(n)=75.5\\n g(n)= 99.0 h(n)=74.5\\n g(n)= 100.0 h(n)=73.5\\n g(n)= 101.0 h(n)=72.5\\n g(n)= 102.0 h(n)=71.5\\n g(n)= 103.0 h(n)=70.5\\n g(n)= 104.0 h(n)=69.5\\n g(n)= 105.0 h(n)=68.5\\n g(n)= 106.0 h(n)=67.5\\n g(n)= 107.0 h(n)=66.5\\n g(n)= 108.0 h(n)=65.5\\n g(n)= 109.0 h(n)=64.5\\n g(n)= 110.0 h(n)=63.5\\n g(n)= 111.0 h(n)=62.5\\n g(n)= 112.0 h(n)=61.5\\n g(n)= 113.0 h(n)=60.5\\n g(n)= 114.0 h(n)=59.5\\n g(n)= 115.0 h(n)=58.5\\n g(n)= 116.0 h(n)=57.5\\n g(n)= 117.0 h(n)=56.5\\n g(n)= 118.0 h(n)=55.5\\n g(n)= 119.0 h(n)=54.5\\n g(n)= 120.0 h(n)=53.5\\n g(n)= 121.0 h(n)=52.5\\n g(n)= 122.0 h(n)=51.5\\n g(n)= 123.0 h(n)=50.5\\n g(n)= 124.0 h(n)=49.5\\n g(n)= 125.0 h(n)=48.5\\n g(n)= 126.0 h(n)=47.5\\n g(n)= 127.0 h(n)=46.5\\n g(n)= 128.0 h(n)=45.5\\n g(n)= 129.0 h(n)=44.5\\n g(n)= 130.0 h(n)=43.5\\n g(n)= 131.0 h(n)=42.5\\n g(n)= 132.0 h(n)=41.5\\n g(n)= 133.0 h(n)=40.5\\n g(n)= 134.0 h(n)=39.5\\n g(n)= 135.0 h(n)=38.5\\n g(n)= 136.0 h(n)=37.5\\n g(n)= 137.0 h(n)=36.5\\n g(n)= 138.0 h(n)=35.5\\n g(n)= 139.0 h(n)=34.5\\n g(n)= 140.0 h(n)=33.5\\n g(n)= 141.0 h(n)=32.5\\n g(n)= 142.0 h(n)=31.5\\n g(n)= 143.0 h(n)=30.5\\n g(n)= 144.0 h(n)=29.5\\n g(n)= 145.0 h(n)=28.5\\n g(n)= 146.0 h(n)=27.5\\n g(n)= 147.0 h(n)=26.5\\n g(n)= 148.0 h(n)=25.5\\n g(n)= 149.0 h(n)=24.5\\n g(n)= 150.0 h(n)=23.5\\n g(n)= 151.0 h(n)=22.5\\n g(n)= 152.0 h(n)=21.5\\n g(n)= 153.0 h(n)=20.5\\n g(n)= 154.0 h(n)=19.5\\n g(n)= 155.0 h(n)=18.5\\n g(n)= 156.0 h(n)=17.5\\n g(n)= 157.0 h(n)=16.5\\n g(n)= 158.0 h(n)=15.5\\n g(n)= 159.0 h(n)=14.5\\n g(n)= 160.0 h(n)=13.5\\n g(n)= 161.0 h(n)=12.5\\n g(n)= 162.0 h(n)=11.5\\n g(n)= 163.0 h(n)=10.5\\n g(n)= 164.0 h(n)=9.5\\n g(n)= 165.0 h(n)=8.5\\n g(n)= 166.0 h(n)=7.5\\n g(n)= 167.0 h(n)=6.5\\n g(n)= 168.0 h(n)=5.5\\n g(n)= 169.0 h(n)=4.5\\n g(n)= 170.0 h(n)=3.5\\n g(n)= 171.0 h(n)=2.5\\n g(n)= 172.0 h(n)=1.5\\n g(n)= 173.0 h(n)=1.0\\n g(n)= 174.0 h(n)=0.0\\nProblem Solved\\n\\nFound Plan:\\n0.0: (go_south_east b0)\\n1.0: (go_south_east b0)\\n2.0: (go_south_east b0)\\n3.0: (go_south_east b0)\\n4.0: (go_south_east b0)\\n5.0: (go_south_east b0)\\n6.0: (go_south_east b0)\\n7.0: (go_south_east b0)\\n8.0: (go_south_east b0)\\n9.0: (go_south_east b0)\\n10.0: (go_south_east b0)\\n11.0: (go_south_east b0)\\n12.0: (go_south_east b0)\\n13.0: (go_south_east b0)\\n14.0: (go_south_east b0)\\n15.0: (go_south_east b0)\\n16.0: (go_south_east b0)\\n17.0: (go_south_east b0)\\n18.0: (go_south_east b0)\\n19.0: (go_south_east b0)\\n20.0: (go_south_east b0)\\n21.0: (go_south_east b0)\\n22.0: (go_south_east b0)\\n23.0: (go_south_east b0)\\n24.0: (go_south_east b0)\\n25.0: (go_south_east b0)\\n26.0: (go_south_east b0)\\n27.0: (go_south_east b0)\\n28.0: (go_south_east b0)\\n29.0: (go_south_east b0)\\n30.0: (go_south_east b0)\\n31.0: (go_south_east b0)\\n32.0: (go_south_east b0)\\n33.0: (go_south_east b0)\\n34.0: (go_south_east b0)\\n35.0: (go_south_east b0)\\n36.0: (go_south_east b0)\\n37.0: (go_south_east b0)\\n38.0: (go_south_east b0)\\n39.0: (go_south_east b0)\\n40.0: (go_south_east b0)\\n41.0: (go_south_east b0)\\n42.0: (go_south_east b0)\\n43.0: (go_south_east b0)\\n44.0: (go_south_east b0)\\n45.0: (go_south_east b0)\\n46.0: (go_south_east b0)\\n47.0: (go_south_east b0)\\n48.0: (go_south_east b0)\\n49.0: (go_south_east b0)\\n50.0: (go_south_east b0)\\n51.0: (go_south_east b0)\\n52.0: (go_south_east b0)\\n53.0: (go_south_east b0)\\n54.0: (go_south_east b0)\\n55.0: (go_south_east b0)\\n56.0: (go_south_east b0)\\n57.0: (go_south_east b0)\\n58.0: (go_south_east b0)\\n59.0: (go_south_east b0)\\n60.0: (go_south_east b0)\\n61.0: (go_south_east b0)\\n62.0: (go_south_east b0)\\n63.0: (go_south_east b0)\\n64.0: (go_south_east b0)\\n65.0: (go_south_east b0)\\n66.0: (go_south_east b0)\\n67.0: (go_south_east b0)\\n68.0: (go_south_east b0)\\n69.0: (go_south_east b0)\\n70.0: (go_south_east b0)\\n71.0: (go_south_east b0)\\n72.0: (go_south_east b0)\\n73.0: (go_south_east b0)\\n74.0: (go_south_east b0)\\n75.0: (go_south_east b0)\\n76.0: (go_south_east b0)\\n77.0: (go_south_east b0)\\n78.0: (go_south_east b0)\\n79.0: (go_south_east b0)\\n80.0: (go_south_east b0)\\n81.0: (go_south_east b0)\\n82.0: (go_south_east b0)\\n83.0: (go_south_east b0)\\n84.0: (go_south_east b0)\\n85.0: (go_south_east b0)\\n86.0: (go_south_east b0)\\n87.0: (go_south_west b0)\\n88.0: (go_south_west b0)\\n89.0: (go_south_west b0)\\n90.0: (go_south_west b0)\\n91.0: (go_south_west b0)\\n92.0: (go_south_west b0)\\n93.0: (go_south_west b0)\\n94.0: (go_south_west b0)\\n95.0: (go_south_west b0)\\n96.0: (go_south_west b0)\\n97.0: (go_south_west b0)\\n98.0: (go_south_west b0)\\n99.0: (go_south_west b0)\\n100.0: (go_south_west b0)\\n101.0: (go_south_west b0)\\n102.0: (go_south_west b0)\\n103.0: (go_south_west b0)\\n104.0: (go_south_west b0)\\n105.0: (go_south_west b0)\\n106.0: (go_south_west b0)\\n107.0: (go_south_west b0)\\n108.0: (go_south_west b0)\\n109.0: (go_south_west b0)\\n110.0: (go_south_west b0)\\n111.0: (go_south_west b0)\\n112.0: (go_south_west b0)\\n113.0: (go_south_west b0)\\n114.0: (go_south_west b0)\\n115.0: (go_south_west b0)\\n116.0: (go_south_west b0)\\n117.0: (go_south_west b0)\\n118.0: (go_south_west b0)\\n119.0: (go_south_west b0)\\n120.0: (go_south_west b0)\\n121.0: (go_south_west b0)\\n122.0: (go_south_west b0)\\n123.0: (go_south_west b0)\\n124.0: (go_south_west b0)\\n125.0: (go_south_west b0)\\n126.0: (go_south_west b0)\\n127.0: (go_south_west b0)\\n128.0: (go_south_west b0)\\n129.0: (go_south_west b0)\\n130.0: (go_south_west b0)\\n131.0: (go_south_west b0)\\n132.0: (go_south_west b0)\\n133.0: (go_south_west b0)\\n134.0: (go_south_west b0)\\n135.0: (go_south_west b0)\\n136.0: (go_south_west b0)\\n137.0: (go_south_west b0)\\n138.0: (go_south_west b0)\\n139.0: (go_south_west b0)\\n140.0: (go_south_west b0)\\n141.0: (go_south_west b0)\\n142.0: (go_south_west b0)\\n143.0: (go_south_west b0)\\n144.0: (go_south_west b0)\\n145.0: (go_south_west b0)\\n146.0: (go_south_west b0)\\n147.0: (go_south_west b0)\\n148.0: (go_south_west b0)\\n149.0: (go_south_west b0)\\n150.0: (go_south_west b0)\\n151.0: (go_south_west b0)\\n152.0: (go_south_west b0)\\n153.0: (go_south_west b0)\\n154.0: (go_south_west b0)\\n155.0: (go_south_west b0)\\n156.0: (go_south_west b0)\\n157.0: (go_south_west b0)\\n158.0: (go_south_west b0)\\n159.0: (go_south_west b0)\\n160.0: (go_south_west b0)\\n161.0: (go_south_west b0)\\n162.0: (go_south_west b0)\\n163.0: (go_south_west b0)\\n164.0: (go_south_west b0)\\n165.0: (go_south_west b0)\\n166.0: (go_south_west b0)\\n167.0: (go_south_west b0)\\n168.0: (go_south_west b0)\\n169.0: (go_south_west b0)\\n170.0: (go_south_west b0)\\n171.0: (go_south_west b0)\\n172.0: (go_south_west b0)\\n173.0: (save_person b0 p0)\\n\\nPlan-Length:174\\nMetric (Search):174.0\\nPlanning Time (msec): 227\\nHeuristic Time (msec): 18\\nSearch Time (msec): 42\\nExpanded Nodes:175\\nStates Evaluated:1219\\nFixed constraint violations during search (zero-crossing):0\\nNumber of Dead-Ends detected:0\\nNumber of Duplicates detected:0\\n'), LogMessage(level=<LogLevel.ERROR: 4>, message='')])\n"
     ]
    }
   ],
   "source": [
    "with OneshotPlanner(name='enhsp') as planner:\n",
    "    plan = planner.solve(problem)\n",
    "print(plan)"
   ]
  },
  {
   "cell_type": "code",
   "execution_count": 4,
   "metadata": {},
   "outputs": [
    {
     "data": {
      "text/plain": [
       "problem name = instance_1_1_1229\n",
       "\n",
       "types = [boat, person]\n",
       "\n",
       "fluents = [\n",
       "  bool saved[t=person]\n",
       "  real x[b=boat]\n",
       "  real y[b=boat]\n",
       "  real d[t=person]\n",
       "]\n",
       "\n",
       "actions = [\n",
       "  action go_north_east(boat b) {\n",
       "    preconditions = [\n",
       "    ]\n",
       "    effects = [\n",
       "      x(b) += 3/2\n",
       "      y(b) += 3/2\n",
       "    ]\n",
       "    simulated effect = None\n",
       "  }\n",
       "  action go_north_west(boat b) {\n",
       "    preconditions = [\n",
       "    ]\n",
       "    effects = [\n",
       "      x(b) -= 3/2\n",
       "      y(b) += 3/2\n",
       "    ]\n",
       "    simulated effect = None\n",
       "  }\n",
       "  action go_est(boat b) {\n",
       "    preconditions = [\n",
       "    ]\n",
       "    effects = [\n",
       "      x(b) += 3\n",
       "    ]\n",
       "    simulated effect = None\n",
       "  }\n",
       "  action go_west(boat b) {\n",
       "    preconditions = [\n",
       "    ]\n",
       "    effects = [\n",
       "      x(b) -= 3\n",
       "    ]\n",
       "    simulated effect = None\n",
       "  }\n",
       "  action go_south_west(boat b) {\n",
       "    preconditions = [\n",
       "    ]\n",
       "    effects = [\n",
       "      x(b) += 2\n",
       "      y(b) -= 2\n",
       "    ]\n",
       "    simulated effect = None\n",
       "  }\n",
       "  action go_south_east(boat b) {\n",
       "    preconditions = [\n",
       "    ]\n",
       "    effects = [\n",
       "      x(b) -= 2\n",
       "      y(b) -= 2\n",
       "    ]\n",
       "    simulated effect = None\n",
       "  }\n",
       "  action go_south(boat b) {\n",
       "    preconditions = [\n",
       "    ]\n",
       "    effects = [\n",
       "      y(b) -= 2\n",
       "    ]\n",
       "    simulated effect = None\n",
       "  }\n",
       "  action save_person(boat b, person t) {\n",
       "    preconditions = [\n",
       "      ((d(t) <= (x(b) + y(b))) and (d(t) <= (y(b) - x(b))) and ((x(b) + y(b)) <= (d(t) + 25)) and ((y(b) - x(b)) <= (d(t) + 25)))\n",
       "    ]\n",
       "    effects = [\n",
       "      saved(t) := true\n",
       "    ]\n",
       "    simulated effect = None\n",
       "  }\n",
       "]\n",
       "\n",
       "objects = [\n",
       "  boat: [b0]\n",
       "  person: [p0]\n",
       "]\n",
       "\n",
       "initial fluents default = [\n",
       "  bool saved[t=person] := false\n",
       "]\n",
       "\n",
       "initial values = [\n",
       "  x(b0) := 3\n",
       "  y(b0) := 0\n",
       "  d(p0) := -370\n",
       "]\n",
       "\n",
       "goals = [\n",
       "  saved(p0)\n",
       "]\n",
       "\n",
       "trajectory constraints = [\n",
       "  Sometime((y(b0) == -170))\n",
       "]\n"
      ]
     },
     "execution_count": 4,
     "metadata": {},
     "output_type": "execute_result"
    }
   ],
   "source": [
    "problem = reader.parse_problem('sailing/domain.pddl', 'sailing/constraints/instance_1_1_1229.pddl')\n",
    "problem"
   ]
  },
  {
   "cell_type": "code",
   "execution_count": 5,
   "metadata": {},
   "outputs": [],
   "source": [
    "problem = reader.parse_problem('sailing/domain.pddl', 'sailing/constraints/instance_1_1_1229.pddl')\n",
    "compiler = NumericCompiler() \n",
    "tmp = CompilationKind.TRAJECTORY_CONSTRAINTS_REMOVING\n",
    "new_problem = compiler.compile(problem, CompilationKind.TRAJECTORY_CONSTRAINTS_REMOVING).problem"
   ]
  },
  {
   "cell_type": "code",
   "execution_count": 6,
   "metadata": {},
   "outputs": [
    {
     "name": "stdout",
     "output_type": "stream",
     "text": [
      "\u001b[96m  *** Credits ***\n",
      "\u001b[0m\u001b[96m  * In operation mode `OneshotPlanner` at line 1 of `/tmp/ipykernel_38222/3640653155.py`, \u001b[0m\u001b[96myou are using the following planning engine:\n",
      "\u001b[0m\u001b[96m  * Engine name: ENHSP\n",
      "  * Developers:  Enrico Scala\n",
      "\u001b[0m\u001b[96m  * Description: \u001b[0m\u001b[96mExpressive Numeric Heuristic Search Planner.\u001b[0m\u001b[96m\n",
      "\u001b[0m\u001b[96m\n",
      "\u001b[0m[go_south_west_b0, go_south_west_b0, go_south_west_b0, go_south_west_b0, go_south_west_b0, go_south_west_b0, go_south_west_b0, go_south_west_b0, go_south_west_b0, go_south_west_b0, go_south_west_b0, go_south_west_b0, go_south_west_b0, go_south_west_b0, go_south_west_b0, go_south_west_b0, go_south_west_b0, go_south_west_b0, go_south_west_b0, go_south_west_b0, go_south_west_b0, go_south_west_b0, go_south_west_b0, go_south_west_b0, go_south_west_b0, go_south_west_b0, go_south_west_b0, go_south_west_b0, go_south_west_b0, go_south_west_b0, go_south_west_b0, go_south_west_b0, go_south_west_b0, go_south_west_b0, go_south_west_b0, go_south_west_b0, go_south_west_b0, go_south_west_b0, go_south_west_b0, go_south_west_b0, go_south_west_b0, go_south_west_b0, go_south_west_b0, go_south_west_b0, go_south_west_b0, go_south_west_b0, go_south_west_b0, go_south_west_b0, go_south_west_b0, go_south_west_b0, go_south_west_b0, go_south_west_b0, go_south_west_b0, go_south_west_b0, go_south_west_b0, go_south_west_b0, go_south_west_b0, go_south_west_b0, go_south_west_b0, go_south_west_b0, go_south_west_b0, go_south_west_b0, go_south_west_b0, go_south_west_b0, go_south_west_b0, go_south_west_b0, go_south_west_b0, go_south_west_b0, go_south_west_b0, go_south_west_b0, go_south_west_b0, go_south_west_b0, go_south_west_b0, go_south_west_b0, go_south_west_b0, go_south_west_b0, go_south_west_b0, go_south_west_b0, go_south_west_b0, go_south_west_b0, go_south_west_b0, go_south_west_b0, go_south_west_b0, go_south_west_b0, go_south_west_b0, go_south_east_b0, go_south_east_b0, go_south_east_b0, go_south_east_b0, go_south_east_b0, go_south_east_b0, go_south_east_b0, go_south_east_b0, go_south_east_b0, go_south_east_b0, go_south_east_b0, go_south_east_b0, go_south_east_b0, go_south_east_b0, go_south_east_b0, go_south_east_b0, go_south_east_b0, go_south_east_b0, go_south_east_b0, go_south_east_b0, go_south_east_b0, go_south_east_b0, go_south_east_b0, go_south_east_b0, go_south_east_b0, go_south_east_b0, go_south_east_b0, go_south_east_b0, go_south_east_b0, go_south_east_b0, go_south_east_b0, go_south_east_b0, go_south_east_b0, go_south_east_b0, go_south_east_b0, go_south_east_b0, go_south_east_b0, go_south_east_b0, go_south_east_b0, go_south_east_b0, go_south_east_b0, go_south_east_b0, go_south_east_b0, go_south_east_b0, go_south_east_b0, go_south_east_b0, go_south_east_b0, go_south_east_b0, go_south_east_b0, go_south_east_b0, go_south_east_b0, go_south_east_b0, go_south_east_b0, go_south_east_b0, go_south_east_b0, go_south_east_b0, go_south_east_b0, go_south_east_b0, go_south_east_b0, go_south_east_b0, go_south_east_b0, go_south_east_b0, go_south_east_b0, go_south_east_b0, go_south_east_b0, go_south_east_b0, go_south_east_b0, go_south_east_b0, go_south_east_b0, go_south_east_b0, go_south_east_b0, go_south_east_b0, go_south_east_b0, go_south_east_b0, go_south_east_b0, go_south_east_b0, go_south_east_b0, go_south_east_b0, go_south_east_b0, go_south_east_b0, go_south_east_b0, go_south_east_b0, go_south_east_b0, go_south_east_b0, go_south_east_b0, go_south_east_b0, go_south_east_b0, go_south_west_b0, save_person_b0_p0]\n"
     ]
    }
   ],
   "source": [
    "with OneshotPlanner(name='enhsp') as planner:\n",
    "    plan = planner.solve(new_problem)\n",
    "print(plan.plan.actions)\n",
    "#print(len([a for a in plan.plan.actions if a.action.name == 'move-up_a1']))"
   ]
  },
  {
   "cell_type": "code",
   "execution_count": 7,
   "metadata": {},
   "outputs": [
    {
     "data": {
      "text/plain": [
       "problem name = cerm_TrajectoryConstraintsRemover_instance_1_1_1229\n",
       "\n",
       "types = [boat, person]\n",
       "\n",
       "fluents = [\n",
       "  bool saved[t=person]\n",
       "  real x[b=boat]\n",
       "  real y[b=boat]\n",
       "  real d[t=person]\n",
       "  bool hold-0\n",
       "]\n",
       "\n",
       "actions = [\n",
       "  action go_est_b0 {\n",
       "    preconditions = [\n",
       "    ]\n",
       "    effects = [\n",
       "      x(b0) += 3\n",
       "    ]\n",
       "    simulated effect = None\n",
       "  }\n",
       "  action go_west_b0 {\n",
       "    preconditions = [\n",
       "    ]\n",
       "    effects = [\n",
       "      x(b0) -= 3\n",
       "    ]\n",
       "    simulated effect = None\n",
       "  }\n",
       "  action save_person_b0_p0 {\n",
       "    preconditions = [\n",
       "      (-370 <= (x(b0) + y(b0)))\n",
       "      (-370 <= (y(b0) - x(b0)))\n",
       "      ((x(b0) + y(b0)) <= -345)\n",
       "      ((y(b0) - x(b0)) <= -345)\n",
       "    ]\n",
       "    effects = [\n",
       "      saved(p0) := true\n",
       "    ]\n",
       "    simulated effect = None\n",
       "  }\n",
       "  action go_north_east_b0 {\n",
       "    preconditions = [\n",
       "      (not ((y(b0) + 3/2) == -170))\n",
       "    ]\n",
       "    effects = [\n",
       "      x(b0) += 3/2\n",
       "      y(b0) += 3/2\n",
       "    ]\n",
       "    simulated effect = None\n",
       "  }\n",
       "  action go_north_east_b0_0 {\n",
       "    preconditions = [\n",
       "      ((y(b0) + 3/2) == -170)\n",
       "    ]\n",
       "    effects = [\n",
       "      x(b0) += 3/2\n",
       "      y(b0) += 3/2\n",
       "      hold-0 := true\n",
       "    ]\n",
       "    simulated effect = None\n",
       "  }\n",
       "  action go_north_west_b0 {\n",
       "    preconditions = [\n",
       "      (not ((y(b0) + 3/2) == -170))\n",
       "    ]\n",
       "    effects = [\n",
       "      x(b0) -= 3/2\n",
       "      y(b0) += 3/2\n",
       "    ]\n",
       "    simulated effect = None\n",
       "  }\n",
       "  action go_north_west_b0_0 {\n",
       "    preconditions = [\n",
       "      ((y(b0) + 3/2) == -170)\n",
       "    ]\n",
       "    effects = [\n",
       "      x(b0) -= 3/2\n",
       "      y(b0) += 3/2\n",
       "      hold-0 := true\n",
       "    ]\n",
       "    simulated effect = None\n",
       "  }\n",
       "  action go_south_west_b0 {\n",
       "    preconditions = [\n",
       "      (not ((y(b0) - 2) == -170))\n",
       "    ]\n",
       "    effects = [\n",
       "      x(b0) += 2\n",
       "      y(b0) -= 2\n",
       "    ]\n",
       "    simulated effect = None\n",
       "  }\n",
       "  action go_south_west_b0_0 {\n",
       "    preconditions = [\n",
       "      ((y(b0) - 2) == -170)\n",
       "    ]\n",
       "    effects = [\n",
       "      x(b0) += 2\n",
       "      y(b0) -= 2\n",
       "      hold-0 := true\n",
       "    ]\n",
       "    simulated effect = None\n",
       "  }\n",
       "  action go_south_east_b0 {\n",
       "    preconditions = [\n",
       "      (not ((y(b0) - 2) == -170))\n",
       "    ]\n",
       "    effects = [\n",
       "      x(b0) -= 2\n",
       "      y(b0) -= 2\n",
       "    ]\n",
       "    simulated effect = None\n",
       "  }\n",
       "  action go_south_east_b0_0 {\n",
       "    preconditions = [\n",
       "      ((y(b0) - 2) == -170)\n",
       "    ]\n",
       "    effects = [\n",
       "      x(b0) -= 2\n",
       "      y(b0) -= 2\n",
       "      hold-0 := true\n",
       "    ]\n",
       "    simulated effect = None\n",
       "  }\n",
       "  action go_south_b0 {\n",
       "    preconditions = [\n",
       "      (not ((y(b0) - 2) == -170))\n",
       "    ]\n",
       "    effects = [\n",
       "      y(b0) -= 2\n",
       "    ]\n",
       "    simulated effect = None\n",
       "  }\n",
       "  action go_south_b0_0 {\n",
       "    preconditions = [\n",
       "      ((y(b0) - 2) == -170)\n",
       "    ]\n",
       "    effects = [\n",
       "      y(b0) -= 2\n",
       "      hold-0 := true\n",
       "    ]\n",
       "    simulated effect = None\n",
       "  }\n",
       "]\n",
       "\n",
       "objects = [\n",
       "  boat: [b0]\n",
       "  person: [p0]\n",
       "]\n",
       "\n",
       "initial fluents default = [\n",
       "  bool saved[t=person] := false\n",
       "  bool hold-0 := false\n",
       "]\n",
       "\n",
       "initial values = [\n",
       "  x(b0) := 3\n",
       "  y(b0) := 0\n",
       "  d(p0) := -370\n",
       "  saved(p0) := false\n",
       "  hold-0 := false\n",
       "]\n",
       "\n",
       "goals = [\n",
       "  (saved(p0) and hold-0)\n",
       "]\n"
      ]
     },
     "execution_count": 7,
     "metadata": {},
     "output_type": "execute_result"
    }
   ],
   "source": [
    "ce_remover = ConditionalEffectsRemover()\n",
    "no_ce = ce_remover.compile(new_problem).problem\n",
    "no_ce"
   ]
  },
  {
   "cell_type": "code",
   "execution_count": 8,
   "metadata": {},
   "outputs": [
    {
     "name": "stdout",
     "output_type": "stream",
     "text": [
      "14*z <= -3*x - 3*y + 5\n"
     ]
    }
   ],
   "source": [
    "from sympy.parsing.sympy_parser import parse_expr, standard_transformations\n",
    "x = Fluent(\"x\", RealType())\n",
    "y = Fluent(\"y\", RealType())\n",
    "z = Fluent(\"z\", RealType())\n",
    "\n",
    "Boat = UserType(\"Boat\")\n",
    "\n",
    "b1 = Object(\"b1\", Boat)\n",
    "b2 = Object(\"b2\", Boat)\n",
    "\n",
    "pos_x = Fluent(\"pos-x\", RealType(), b = Boat)\n",
    "pos_y = Fluent(\"pos-y\", RealType(), b = Boat)\n",
    "\n",
    "expr = GE(Plus(Times(2.5, x), Plus(2, 3)), Times(3, y))\n",
    "expr2 = GE(Plus(Times(-3, Plus(y, x)), 5), Times(14, z))\n",
    "sympy_expr = parse_expr(str(expr2), transformations=standard_transformations)\n",
    "print(sympy_expr)"
   ]
  },
  {
   "cell_type": "code",
   "execution_count": 9,
   "metadata": {},
   "outputs": [],
   "source": [
    "action = InstantaneousAction(\"increase\")\n",
    "\n",
    "action.add_increase_effect(x, 10)"
   ]
  },
  {
   "cell_type": "code",
   "execution_count": 10,
   "metadata": {},
   "outputs": [
    {
     "name": "stdout",
     "output_type": "stream",
     "text": [
      "(0 <= (x - 2))\n",
      "(0 <= ((x + 10) - 2))\n"
     ]
    }
   ],
   "source": [
    "conditition = GE(x - 2, 0)\n",
    "regressed_condition = regression(conditition, action)\n",
    "print(conditition)\n",
    "print(regressed_condition)"
   ]
  },
  {
   "cell_type": "code",
   "execution_count": 11,
   "metadata": {},
   "outputs": [
    {
     "name": "stdout",
     "output_type": "stream",
     "text": [
      "x - 2\n",
      "x + 8\n",
      "10\n"
     ]
    },
    {
     "data": {
      "text/plain": [
       "True"
      ]
     },
     "execution_count": 11,
     "metadata": {},
     "output_type": "execute_result"
    }
   ],
   "source": [
    "from sympy import sympify\n",
    "condition_sympy = parse_expr(str(conditition), transformations=standard_transformations).rhs\n",
    "regressed_condition_sympy = parse_expr(str(regressed_condition), transformations=standard_transformations).rhs\n",
    "\n",
    "print(condition_sympy)\n",
    "print(regressed_condition_sympy)\n",
    "print(regressed_condition_sympy - condition_sympy)\n",
    "res = (regressed_condition_sympy - condition_sympy)\n",
    "res.is_Number"
   ]
  },
  {
   "cell_type": "code",
   "execution_count": 12,
   "metadata": {},
   "outputs": [],
   "source": [
    "lineffect = InstantaneousAction(\"a4\")\n",
    "lineffect.add_effect(fluent=x, value=Plus(Times(x, 4), 5))\n",
    "lineffect.add_effect(fluent=y, value=Plus(y, 5))\n",
    "lineffect.add_increase_effect(fluent=z, value=5)"
   ]
  },
  {
   "cell_type": "code",
   "execution_count": 13,
   "metadata": {},
   "outputs": [
    {
     "ename": "AttributeError",
     "evalue": "'Effect' object has no attribute 'is_'",
     "output_type": "error",
     "traceback": [
      "\u001b[0;31m---------------------------------------------------------------------------\u001b[0m",
      "\u001b[0;31mAttributeError\u001b[0m                            Traceback (most recent call last)",
      "Cell \u001b[0;32mIn [13], line 3\u001b[0m\n\u001b[1;32m      1\u001b[0m effects \u001b[39m=\u001b[39m lineffect\u001b[39m.\u001b[39meffects\n\u001b[1;32m      2\u001b[0m eff \u001b[39m=\u001b[39m effects[\u001b[39m1\u001b[39m]\n\u001b[0;32m----> 3\u001b[0m eff\u001b[39m.\u001b[39;49mis_\n",
      "\u001b[0;31mAttributeError\u001b[0m: 'Effect' object has no attribute 'is_'"
     ]
    }
   ],
   "source": [
    "effects = lineffect.effects\n",
    "eff = effects[1]\n",
    "eff.is_assignment()"
   ]
  },
  {
   "cell_type": "code",
   "execution_count": null,
   "metadata": {},
   "outputs": [
    {
     "data": {
      "text/plain": [
       "{y}"
      ]
     },
     "execution_count": 97,
     "metadata": {},
     "output_type": "execute_result"
    }
   ],
   "source": [
    "from unified_planning.model.walkers import LinearChecker, FreeVarsExtractor, Substituter\n",
    "\n",
    "\n",
    "free = FreeVarsExtractor()\n",
    "free_vars = free.get(eff.value)\n",
    "free_vars"
   ]
  }
 ],
 "metadata": {
  "kernelspec": {
   "display_name": "UnifiedPlanning",
   "language": "python",
   "name": "python3"
  },
  "language_info": {
   "codemirror_mode": {
    "name": "ipython",
    "version": 3
   },
   "file_extension": ".py",
   "mimetype": "text/x-python",
   "name": "python",
   "nbconvert_exporter": "python",
   "pygments_lexer": "ipython3",
   "version": "3.10.8"
  },
  "orig_nbformat": 4,
  "vscode": {
   "interpreter": {
    "hash": "d5a22430937dab17cb60bbb7c1b842f783a998a6f9b12b50f76504d429717c7c"
   }
  }
 },
 "nbformat": 4,
 "nbformat_minor": 2
}
