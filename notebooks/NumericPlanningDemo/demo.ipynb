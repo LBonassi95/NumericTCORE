{
 "cells": [
  {
   "cell_type": "code",
   "execution_count": 14,
   "metadata": {},
   "outputs": [],
   "source": [
    "from unified_planning.model import problem\n",
    "from unified_planning.shortcuts import *\n",
    "from unified_planning.io.pddl_reader import PDDLReader\n",
    "from unified_planning.engines.compilers.grounder import Grounder\n",
    "from numeric_tcore.compilation import NumericCompiler\n",
    "from unified_planning.model.fnode import FNode\n",
    "from unified_planning.model.walkers.state_evaluator import StateEvaluator"
   ]
  },
  {
   "cell_type": "code",
   "execution_count": 15,
   "metadata": {},
   "outputs": [],
   "source": [
    "reader = PDDLReader()\n",
    "problem = reader.parse_problem('domain.pddl', 'problem.pddl')"
   ]
  },
  {
   "cell_type": "code",
   "execution_count": 16,
   "metadata": {},
   "outputs": [],
   "source": [
    "compiler = NumericCompiler() \n",
    "tmp = CompilationKind.TRAJECTORY_CONSTRAINTS_REMOVING\n",
    "new_problem = compiler.compile(problem, CompilationKind.TRAJECTORY_CONSTRAINTS_REMOVING).problem"
   ]
  },
  {
   "cell_type": "code",
   "execution_count": 17,
   "metadata": {},
   "outputs": [
    {
     "name": "stdout",
     "output_type": "stream",
     "text": [
      "\u001b[96m  *** Credits ***\n",
      "\u001b[0m\u001b[96m  * In operation mode `OneshotPlanner` at line 1 of `/tmp/ipykernel_46607/3601505173.py`, \u001b[0m\u001b[96myou are using the following planning engine:\n",
      "\u001b[0m\u001b[96m  * Engine name: ENHSP\n",
      "  * Developers:  Enrico Scala\n",
      "\u001b[0m\u001b[96m  * Description: \u001b[0m\u001b[96mExpressive Numeric Heuristic Search Planner.\u001b[0m\u001b[96m\n",
      "\u001b[0m\u001b[96m\n",
      "\u001b[0m[move-down_a1, move-left_a1, plant-flag_a1_f2, move-up_a1, move-up_a1, move-right_a1, move-right_a1, plant-flag_a1_f1, move-right_a1, move-right_a1, move-up_a1, move-up_a1, move-right_a1, move-up_a1, move-right_a1, move-right_a1, move-right_a1, move-up_a1, move-up_a1]\n",
      "7\n"
     ]
    }
   ],
   "source": [
    "with OneshotPlanner(name='enhsp') as planner:\n",
    "    plan = planner.solve(new_problem)\n",
    "print(plan.plan.actions)\n",
    "print(len([a for a in plan.plan.actions if a.action.name == 'move-up_a1']))"
   ]
  },
  {
   "cell_type": "code",
   "execution_count": null,
   "metadata": {},
   "outputs": [],
   "source": []
  }
 ],
 "metadata": {
  "kernelspec": {
   "display_name": "Python 3.10.8 ('UnifiedPlanning')",
   "language": "python",
   "name": "python3"
  },
  "language_info": {
   "codemirror_mode": {
    "name": "ipython",
    "version": 3
   },
   "file_extension": ".py",
   "mimetype": "text/x-python",
   "name": "python",
   "nbconvert_exporter": "python",
   "pygments_lexer": "ipython3",
   "version": "3.10.8"
  },
  "orig_nbformat": 4,
  "vscode": {
   "interpreter": {
    "hash": "d5a22430937dab17cb60bbb7c1b842f783a998a6f9b12b50f76504d429717c7c"
   }
  }
 },
 "nbformat": 4,
 "nbformat_minor": 2
}
