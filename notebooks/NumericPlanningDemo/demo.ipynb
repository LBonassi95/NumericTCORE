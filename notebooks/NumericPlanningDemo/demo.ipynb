{
 "cells": [
  {
   "cell_type": "code",
   "execution_count": 24,
   "metadata": {},
   "outputs": [],
   "source": [
    "from unified_planning.model import problem\n",
    "from unified_planning.shortcuts import *\n",
    "from unified_planning.io.pddl_reader import PDDLReader\n",
    "from unified_planning.engines.compilers.grounder import Grounder\n",
    "from numeric_tcore.compilation import NumericCompiler\n",
    "from unified_planning.model.fnode import FNode\n",
    "from unified_planning.model.walkers.state_evaluator import StateEvaluator"
   ]
  },
  {
   "cell_type": "code",
   "execution_count": 25,
   "metadata": {},
   "outputs": [],
   "source": [
    "reader = PDDLReader()\n",
    "problem = reader.parse_problem('sailing/domain.pddl', 'sailing/instance_1_1_1229.pddl')"
   ]
  },
  {
   "cell_type": "code",
   "execution_count": 28,
   "metadata": {},
   "outputs": [
    {
     "name": "stdout",
     "output_type": "stream",
     "text": [
      "\u001b[96m  *** Credits ***\n",
      "\u001b[0m\u001b[96m  * In operation mode `OneshotPlanner` at line 1 of `/tmp/ipykernel_51406/1163342592.py`, \u001b[0m\u001b[96myou are using the following planning engine:\n",
      "\u001b[0m\u001b[96m  * Engine name: ENHSP\n",
      "  * Developers:  Enrico Scala\n",
      "\u001b[0m\u001b[96m  * Description: \u001b[0m\u001b[96mExpressive Numeric Heuristic Search Planner.\u001b[0m\u001b[96m\n",
      "\u001b[0m\u001b[96m\n",
      "\u001b[0mPlanGenerationResult(status=<PlanGenerationResultStatus.INTERNAL_ERROR: 7>, plan=None, engine_name='SAT-enhsp', metrics=None, log_messages=[LogMessage(level=<LogLevel.INFO: 2>, message='Domain parsed\\nProblem parsed\\nGrounding..\\nGrounding Time: 40\\nAibr Preprocessing\\nProblem Detected as Unsolvable\\n'), LogMessage(level=<LogLevel.ERROR: 4>, message='')])\n"
     ]
    }
   ],
   "source": [
    "with OneshotPlanner(name='enhsp') as planner:\n",
    "    plan = planner.solve(problem)\n",
    "print(plan)"
   ]
  },
  {
   "cell_type": "code",
   "execution_count": 19,
   "metadata": {},
   "outputs": [
    {
     "data": {
      "text/plain": [
       "problem name = instance_1_1_1229\n",
       "\n",
       "types = [boat, person]\n",
       "\n",
       "fluents = [\n",
       "  bool saved[t=person]\n",
       "  real x[b=boat]\n",
       "  real y[b=boat]\n",
       "  real d[t=person]\n",
       "]\n",
       "\n",
       "actions = [\n",
       "  action go_north_east(boat b) {\n",
       "    preconditions = [\n",
       "    ]\n",
       "    effects = [\n",
       "      x(b) += 3/2\n",
       "      y(b) += 3/2\n",
       "    ]\n",
       "    simulated effect = None\n",
       "  }\n",
       "  action go_north_west(boat b) {\n",
       "    preconditions = [\n",
       "    ]\n",
       "    effects = [\n",
       "      x(b) -= 3/2\n",
       "      y(b) += 3/2\n",
       "    ]\n",
       "    simulated effect = None\n",
       "  }\n",
       "  action go_est(boat b) {\n",
       "    preconditions = [\n",
       "    ]\n",
       "    effects = [\n",
       "      x(b) += 3\n",
       "    ]\n",
       "    simulated effect = None\n",
       "  }\n",
       "  action go_west(boat b) {\n",
       "    preconditions = [\n",
       "    ]\n",
       "    effects = [\n",
       "      x(b) -= 3\n",
       "    ]\n",
       "    simulated effect = None\n",
       "  }\n",
       "  action go_south_west(boat b) {\n",
       "    preconditions = [\n",
       "    ]\n",
       "    effects = [\n",
       "      x(b) += 2\n",
       "      y(b) -= 2\n",
       "    ]\n",
       "    simulated effect = None\n",
       "  }\n",
       "  action go_south_east(boat b) {\n",
       "    preconditions = [\n",
       "    ]\n",
       "    effects = [\n",
       "      x(b) -= 2\n",
       "      y(b) -= 2\n",
       "    ]\n",
       "    simulated effect = None\n",
       "  }\n",
       "  action go_south(boat b) {\n",
       "    preconditions = [\n",
       "    ]\n",
       "    effects = [\n",
       "      y(b) -= 2\n",
       "    ]\n",
       "    simulated effect = None\n",
       "  }\n",
       "  action save_person(boat b, person t) {\n",
       "    preconditions = [\n",
       "      ((d(t) <= (x(b) + y(b))) and (d(t) <= (y(b) - x(b))) and ((x(b) + y(b)) <= (d(t) + 25)) and ((y(b) - x(b)) <= (d(t) + 25)))\n",
       "    ]\n",
       "    effects = [\n",
       "      saved(t) := true\n",
       "    ]\n",
       "    simulated effect = None\n",
       "  }\n",
       "]\n",
       "\n",
       "objects = [\n",
       "  boat: [b0]\n",
       "  person: [p0]\n",
       "]\n",
       "\n",
       "initial fluents default = [\n",
       "  bool saved[t=person] := false\n",
       "]\n",
       "\n",
       "initial values = [\n",
       "  x(b0) := 3\n",
       "  y(b0) := 0\n",
       "  d(p0) := -370\n",
       "]\n",
       "\n",
       "goals = [\n",
       "  saved(p0)\n",
       "]\n",
       "\n",
       "trajectory constraints = [\n",
       "  Always((y(b0) == 0))\n",
       "]\n"
      ]
     },
     "execution_count": 19,
     "metadata": {},
     "output_type": "execute_result"
    }
   ],
   "source": [
    "problem = reader.parse_problem('sailing/domain.pddl', 'sailing/constraints/instance_1_1_1229.pddl')\n",
    "problem"
   ]
  },
  {
   "cell_type": "code",
   "execution_count": 14,
   "metadata": {},
   "outputs": [],
   "source": [
    "problem = reader.parse_problem('sailing/domain.pddl', 'sailing/constraints/instance_1_1_1229.pddl')\n",
    "compiler = NumericCompiler() \n",
    "tmp = CompilationKind.TRAJECTORY_CONSTRAINTS_REMOVING\n",
    "new_problem = compiler.compile(problem, CompilationKind.TRAJECTORY_CONSTRAINTS_REMOVING).problem"
   ]
  },
  {
   "cell_type": "code",
   "execution_count": 15,
   "metadata": {},
   "outputs": [
    {
     "name": "stdout",
     "output_type": "stream",
     "text": [
      "\u001b[96m  *** Credits ***\n",
      "\u001b[0m\u001b[96m  * In operation mode `OneshotPlanner` at line 1 of `/tmp/ipykernel_51406/3640653155.py`, \u001b[0m\u001b[96myou are using the following planning engine:\n",
      "\u001b[0m\u001b[96m  * Engine name: ENHSP\n",
      "  * Developers:  Enrico Scala\n",
      "\u001b[0m\u001b[96m  * Description: \u001b[0m\u001b[96mExpressive Numeric Heuristic Search Planner.\u001b[0m\u001b[96m\n",
      "\u001b[0m\u001b[96m\n",
      "\u001b[0m"
     ]
    },
    {
     "ename": "KeyboardInterrupt",
     "evalue": "",
     "output_type": "error",
     "traceback": [
      "\u001b[0;31m---------------------------------------------------------------------------\u001b[0m",
      "\u001b[0;31mKeyboardInterrupt\u001b[0m                         Traceback (most recent call last)",
      "Cell \u001b[0;32mIn [15], line 2\u001b[0m\n\u001b[1;32m      1\u001b[0m \u001b[39mwith\u001b[39;00m OneshotPlanner(name\u001b[39m=\u001b[39m\u001b[39m'\u001b[39m\u001b[39menhsp\u001b[39m\u001b[39m'\u001b[39m) \u001b[39mas\u001b[39;00m planner:\n\u001b[0;32m----> 2\u001b[0m     plan \u001b[39m=\u001b[39m planner\u001b[39m.\u001b[39;49msolve(new_problem)\n\u001b[1;32m      3\u001b[0m \u001b[39mprint\u001b[39m(plan\u001b[39m.\u001b[39mplan\u001b[39m.\u001b[39mactions)\n",
      "File \u001b[0;32m~/.conda/envs/UnifiedPlanning/lib/python3.10/site-packages/unified_planning/engines/mixins/oneshot_planner.py:78\u001b[0m, in \u001b[0;36mOneshotPlannerMixin.solve\u001b[0;34m(self, problem, callback, heuristic, timeout, output_stream)\u001b[0m\n\u001b[1;32m     76\u001b[0m     \u001b[39melse\u001b[39;00m:\n\u001b[1;32m     77\u001b[0m         warn(msg)\n\u001b[0;32m---> 78\u001b[0m \u001b[39mreturn\u001b[39;00m \u001b[39mself\u001b[39;49m\u001b[39m.\u001b[39;49m_solve(problem, callback, heuristic, timeout, output_stream)\n",
      "File \u001b[0;32m~/.conda/envs/UnifiedPlanning/lib/python3.10/site-packages/unified_planning/engines/pddl_planner.py:192\u001b[0m, in \u001b[0;36mPDDLPlanner._solve\u001b[0;34m(self, problem, callback, heuristic, timeout, output_stream)\u001b[0m\n\u001b[1;32m    190\u001b[0m proc_err: List[\u001b[39mstr\u001b[39m] \u001b[39m=\u001b[39m []\n\u001b[1;32m    191\u001b[0m \u001b[39mtry\u001b[39;00m:\n\u001b[0;32m--> 192\u001b[0m     out_err_bytes \u001b[39m=\u001b[39m process\u001b[39m.\u001b[39;49mcommunicate(timeout\u001b[39m=\u001b[39;49mtimeout)\n\u001b[1;32m    193\u001b[0m     proc_out, proc_err \u001b[39m=\u001b[39m [[x\u001b[39m.\u001b[39mdecode()] \u001b[39mfor\u001b[39;00m x \u001b[39min\u001b[39;00m out_err_bytes]\n\u001b[1;32m    194\u001b[0m \u001b[39mexcept\u001b[39;00m subprocess\u001b[39m.\u001b[39mTimeoutExpired:\n",
      "File \u001b[0;32m~/.conda/envs/UnifiedPlanning/lib/python3.10/subprocess.py:1154\u001b[0m, in \u001b[0;36mPopen.communicate\u001b[0;34m(self, input, timeout)\u001b[0m\n\u001b[1;32m   1151\u001b[0m     endtime \u001b[39m=\u001b[39m \u001b[39mNone\u001b[39;00m\n\u001b[1;32m   1153\u001b[0m \u001b[39mtry\u001b[39;00m:\n\u001b[0;32m-> 1154\u001b[0m     stdout, stderr \u001b[39m=\u001b[39m \u001b[39mself\u001b[39;49m\u001b[39m.\u001b[39;49m_communicate(\u001b[39minput\u001b[39;49m, endtime, timeout)\n\u001b[1;32m   1155\u001b[0m \u001b[39mexcept\u001b[39;00m \u001b[39mKeyboardInterrupt\u001b[39;00m:\n\u001b[1;32m   1156\u001b[0m     \u001b[39m# https://bugs.python.org/issue25942\u001b[39;00m\n\u001b[1;32m   1157\u001b[0m     \u001b[39m# See the detailed comment in .wait().\u001b[39;00m\n\u001b[1;32m   1158\u001b[0m     \u001b[39mif\u001b[39;00m timeout \u001b[39mis\u001b[39;00m \u001b[39mnot\u001b[39;00m \u001b[39mNone\u001b[39;00m:\n",
      "File \u001b[0;32m~/.conda/envs/UnifiedPlanning/lib/python3.10/subprocess.py:2005\u001b[0m, in \u001b[0;36mPopen._communicate\u001b[0;34m(self, input, endtime, orig_timeout)\u001b[0m\n\u001b[1;32m   1998\u001b[0m     \u001b[39mself\u001b[39m\u001b[39m.\u001b[39m_check_timeout(endtime, orig_timeout,\n\u001b[1;32m   1999\u001b[0m                         stdout, stderr,\n\u001b[1;32m   2000\u001b[0m                         skip_check_and_raise\u001b[39m=\u001b[39m\u001b[39mTrue\u001b[39;00m)\n\u001b[1;32m   2001\u001b[0m     \u001b[39mraise\u001b[39;00m \u001b[39mRuntimeError\u001b[39;00m(  \u001b[39m# Impossible :)\u001b[39;00m\n\u001b[1;32m   2002\u001b[0m         \u001b[39m'\u001b[39m\u001b[39m_check_timeout(..., skip_check_and_raise=True) \u001b[39m\u001b[39m'\u001b[39m\n\u001b[1;32m   2003\u001b[0m         \u001b[39m'\u001b[39m\u001b[39mfailed to raise TimeoutExpired.\u001b[39m\u001b[39m'\u001b[39m)\n\u001b[0;32m-> 2005\u001b[0m ready \u001b[39m=\u001b[39m selector\u001b[39m.\u001b[39;49mselect(timeout)\n\u001b[1;32m   2006\u001b[0m \u001b[39mself\u001b[39m\u001b[39m.\u001b[39m_check_timeout(endtime, orig_timeout, stdout, stderr)\n\u001b[1;32m   2008\u001b[0m \u001b[39m# XXX Rewrite these to use non-blocking I/O on the file\u001b[39;00m\n\u001b[1;32m   2009\u001b[0m \u001b[39m# objects; they are no longer using C stdio!\u001b[39;00m\n",
      "File \u001b[0;32m~/.conda/envs/UnifiedPlanning/lib/python3.10/selectors.py:416\u001b[0m, in \u001b[0;36m_PollLikeSelector.select\u001b[0;34m(self, timeout)\u001b[0m\n\u001b[1;32m    414\u001b[0m ready \u001b[39m=\u001b[39m []\n\u001b[1;32m    415\u001b[0m \u001b[39mtry\u001b[39;00m:\n\u001b[0;32m--> 416\u001b[0m     fd_event_list \u001b[39m=\u001b[39m \u001b[39mself\u001b[39;49m\u001b[39m.\u001b[39;49m_selector\u001b[39m.\u001b[39;49mpoll(timeout)\n\u001b[1;32m    417\u001b[0m \u001b[39mexcept\u001b[39;00m \u001b[39mInterruptedError\u001b[39;00m:\n\u001b[1;32m    418\u001b[0m     \u001b[39mreturn\u001b[39;00m ready\n",
      "\u001b[0;31mKeyboardInterrupt\u001b[0m: "
     ]
    }
   ],
   "source": [
    "with OneshotPlanner(name='enhsp') as planner:\n",
    "    plan = planner.solve(new_problem)\n",
    "print(plan.plan.actions)\n",
    "#print(len([a for a in plan.plan.actions if a.action.name == 'move-up_a1']))"
   ]
  },
  {
   "cell_type": "code",
   "execution_count": null,
   "metadata": {},
   "outputs": [],
   "source": []
  }
 ],
 "metadata": {
  "kernelspec": {
   "display_name": "UnifiedPlanning",
   "language": "python",
   "name": "python3"
  },
  "language_info": {
   "codemirror_mode": {
    "name": "ipython",
    "version": 3
   },
   "file_extension": ".py",
   "mimetype": "text/x-python",
   "name": "python",
   "nbconvert_exporter": "python",
   "pygments_lexer": "ipython3",
   "version": "3.10.8"
  },
  "orig_nbformat": 4,
  "vscode": {
   "interpreter": {
    "hash": "d5a22430937dab17cb60bbb7c1b842f783a998a6f9b12b50f76504d429717c7c"
   }
  }
 },
 "nbformat": 4,
 "nbformat_minor": 2
}
