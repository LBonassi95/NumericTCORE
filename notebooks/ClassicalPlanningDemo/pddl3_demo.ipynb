{
 "cells": [
  {
   "cell_type": "code",
   "execution_count": 3,
   "metadata": {},
   "outputs": [],
   "source": [
    "from unified_planning.model import problem\n",
    "from unified_planning.shortcuts import *\n",
    "from unified_planning.io.pddl_reader import PDDLReader\n",
    "from unified_planning.engines.compilers.trajectory_constraints_remover import TrajectoryConstraintsRemover"
   ]
  },
  {
   "cell_type": "code",
   "execution_count": 4,
   "metadata": {},
   "outputs": [
    {
     "name": "stdout",
     "output_type": "stream",
     "text": [
      "\u001b[96m  *** Credits ***\n",
      "\u001b[0m\u001b[96m  * In operation mode `OneshotPlanner` at line 13 of `/tmp/ipykernel_128346/3474927467.py`, \u001b[0m\u001b[96myou are using the following planning engine:\n",
      "\u001b[0m\u001b[96m  * Engine name: ENHSP\n",
      "  * Developers:  Enrico Scala\n",
      "\u001b[0m\u001b[96m  * Description: \u001b[0m\u001b[96mExpressive Numeric Heuristic Search Planner.\u001b[0m\u001b[96m\n",
      "\u001b[0m\u001b[96m\n",
      "\u001b[0mSAT-enhsp returned: [pick-up_b, stack_b_a, pick-up_d, stack_d_c]\n"
     ]
    }
   ],
   "source": [
    "reader = PDDLReader()\n",
    "problem = reader.parse_problem('blocks_domain.pddl', 'blocks_problem.pddl' )\n",
    "block = UserType('block')\n",
    "a = Object('a', block)\n",
    "b = Object('b', block)\n",
    "c = Object('c', block)\n",
    "d = Object('d', block)\n",
    "on = Fluent('on', BoolType(), x=block, y=block)\n",
    "constr = SometimeBefore(on(d,c), on(b,a))\n",
    "problem.add_trajectory_constraint(constr)\n",
    "traj_remover = TrajectoryConstraintsRemover()    \n",
    "new_problem = traj_remover.compile(problem, CompilationKind.TRAJECTORY_CONSTRAINTS_REMOVING).problem\n",
    "with OneshotPlanner(problem_kind=new_problem.kind) as planner:\n",
    "    result = planner.solve(new_problem)\n",
    "    print(\"%s returned: %s\" % (planner.name, result.plan))"
   ]
  },
  {
   "cell_type": "code",
   "execution_count": null,
   "metadata": {},
   "outputs": [],
   "source": []
  }
 ],
 "metadata": {
  "kernelspec": {
   "display_name": "Python 3.8.12 ('luigi_planning')",
   "language": "python",
   "name": "python3"
  },
  "language_info": {
   "codemirror_mode": {
    "name": "ipython",
    "version": 3
   },
   "file_extension": ".py",
   "mimetype": "text/x-python",
   "name": "python",
   "nbconvert_exporter": "python",
   "pygments_lexer": "ipython3",
   "version": "3.8.12"
  },
  "orig_nbformat": 4,
  "vscode": {
   "interpreter": {
    "hash": "7ba2f74e4db1820d708f0533f578f7524ef7c4299fdcf4d21b076e0a6921c1c4"
   }
  }
 },
 "nbformat": 4,
 "nbformat_minor": 2
}
