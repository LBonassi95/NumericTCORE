{
 "cells": [
  {
   "cell_type": "code",
   "execution_count": 1,
   "metadata": {},
   "outputs": [],
   "source": [
    "from unified_planning.model import problem\n",
    "from unified_planning.shortcuts import *\n",
    "from unified_planning.io.pddl_reader import PDDLReader\n",
    "from unified_planning.engines.compilers.trajectory_constraints_remover import TrajectoryConstraintsRemover"
   ]
  },
  {
   "cell_type": "code",
   "execution_count": 2,
   "metadata": {},
   "outputs": [
    {
     "data": {
      "text/plain": [
       "problem name = BLOCKS-4-0\n",
       "\n",
       "types = [block]\n",
       "\n",
       "fluents = [\n",
       "  bool on[x=block, y=block]\n",
       "  bool ontable[x=block]\n",
       "  bool clear[x=block]\n",
       "  bool handempty\n",
       "  bool holding[x=block]\n",
       "]\n",
       "\n",
       "actions = [\n",
       "  action pick-up(block x) {\n",
       "    preconditions = [\n",
       "      (clear(x) and ontable(x) and handempty)\n",
       "    ]\n",
       "    effects = [\n",
       "      ontable(x) := false\n",
       "      clear(x) := false\n",
       "      handempty := false\n",
       "      holding(x) := true\n",
       "    ]\n",
       "    simulated effect = None\n",
       "  }\n",
       "  action put-down(block x) {\n",
       "    preconditions = [\n",
       "      holding(x)\n",
       "    ]\n",
       "    effects = [\n",
       "      holding(x) := false\n",
       "      clear(x) := true\n",
       "      handempty := true\n",
       "      ontable(x) := true\n",
       "    ]\n",
       "    simulated effect = None\n",
       "  }\n",
       "  action stack(block x, block y) {\n",
       "    preconditions = [\n",
       "      (holding(x) and clear(y))\n",
       "    ]\n",
       "    effects = [\n",
       "      holding(x) := false\n",
       "      clear(y) := false\n",
       "      clear(x) := true\n",
       "      handempty := true\n",
       "      on(x, y) := true\n",
       "    ]\n",
       "    simulated effect = None\n",
       "  }\n",
       "  action unstack(block x, block y) {\n",
       "    preconditions = [\n",
       "      (on(x, y) and clear(x) and handempty)\n",
       "    ]\n",
       "    effects = [\n",
       "      holding(x) := true\n",
       "      clear(y) := true\n",
       "      clear(x) := false\n",
       "      handempty := false\n",
       "      on(x, y) := false\n",
       "    ]\n",
       "    simulated effect = None\n",
       "  }\n",
       "]\n",
       "\n",
       "objects = [\n",
       "  block: [d, b, a, c]\n",
       "]\n",
       "\n",
       "initial fluents default = [\n",
       "  bool on[x=block, y=block] := false\n",
       "  bool ontable[x=block] := false\n",
       "  bool clear[x=block] := false\n",
       "  bool handempty := false\n",
       "  bool holding[x=block] := false\n",
       "]\n",
       "\n",
       "initial values = [\n",
       "  clear(c) := true\n",
       "  clear(a) := true\n",
       "  clear(b) := true\n",
       "  clear(d) := true\n",
       "  ontable(c) := true\n",
       "  ontable(a) := true\n",
       "  ontable(b) := true\n",
       "  ontable(d) := true\n",
       "  handempty := true\n",
       "]\n",
       "\n",
       "goals = [\n",
       "]\n"
      ]
     },
     "execution_count": 2,
     "metadata": {},
     "output_type": "execute_result"
    }
   ],
   "source": [
    "reader = PDDLReader()\n",
    "problem = reader.parse_problem('blocks_domain.pddl', 'blocks_problem.pddl')\n",
    "problem"
   ]
  },
  {
   "cell_type": "code",
   "execution_count": 92,
   "metadata": {},
   "outputs": [
    {
     "name": "stdout",
     "output_type": "stream",
     "text": [
      "\u001b[96m  *** Credits ***\n",
      "\u001b[0m\u001b[96m  * In operation mode `OneshotPlanner` at line 1 of `/tmp/ipykernel_97815/3190604266.py`, \u001b[0m\u001b[96myou are using the following planning engine:\n",
      "\u001b[0m\u001b[96m  * Engine name: ENHSP\n",
      "  * Developers:  Enrico Scala\n",
      "\u001b[0m\u001b[96m  * Description: \u001b[0m\u001b[96mExpressive Numeric Heuristic Search Planner.\u001b[0m\u001b[96m\n",
      "\u001b[0m\u001b[96m\n",
      "\u001b[0mSAT-enhsp returned: []\n"
     ]
    }
   ],
   "source": [
    "with OneshotPlanner(problem_kind=problem.kind) as planner:\n",
    "    result = planner.solve(problem)\n",
    "    print(\"%s returned: %s\" % (planner.name, result.plan))"
   ]
  },
  {
   "cell_type": "code",
   "execution_count": 93,
   "metadata": {},
   "outputs": [],
   "source": [
    "block = UserType('block')\n",
    "a = Object('a', block)\n",
    "b = Object('b', block)\n",
    "c = Object('c', block)\n",
    "d = Object('d', block)\n",
    "on = Fluent('on', BoolType(), x=block, y=block)\n",
    "ontable = Fluent('ontable', BoolType(), x=block)\n",
    "holding = Fluent('holding', BoolType(), x=block)\n",
    "x = Variable('x', block)\n",
    "#problem"
   ]
  },
  {
   "cell_type": "code",
   "execution_count": 94,
   "metadata": {},
   "outputs": [],
   "source": [
    "problem.add_trajectory_constraint(Sometime(Exists(on(x, a), *[x])))"
   ]
  },
  {
   "cell_type": "code",
   "execution_count": 95,
   "metadata": {},
   "outputs": [
    {
     "name": "stdout",
     "output_type": "stream",
     "text": [
      "\u001b[96m  *** Credits ***\n",
      "\u001b[0m\u001b[96m  * In operation mode `OneshotPlanner` at line 3 of `/tmp/ipykernel_97815/4071567762.py`, \u001b[0m\u001b[96myou are using the following planning engine:\n",
      "\u001b[0m\u001b[96m  * Engine name: ENHSP\n",
      "  * Developers:  Enrico Scala\n",
      "\u001b[0m\u001b[96m  * Description: \u001b[0m\u001b[96mExpressive Numeric Heuristic Search Planner.\u001b[0m\u001b[96m\n",
      "\u001b[0m\u001b[96m\n",
      "\u001b[0mSAT-enhsp returned: [pick-up_b, stack_b_a]\n"
     ]
    }
   ],
   "source": [
    "traj_remover = TrajectoryConstraintsRemover()    \n",
    "new_problem = traj_remover.compile(problem, CompilationKind.TRAJECTORY_CONSTRAINTS_REMOVING).problem\n",
    "with OneshotPlanner(problem_kind=new_problem.kind) as planner:\n",
    "    result = planner.solve(new_problem)\n",
    "    print(\"%s returned: %s\" % (planner.name, result.plan))"
   ]
  },
  {
   "cell_type": "code",
   "execution_count": 96,
   "metadata": {},
   "outputs": [],
   "source": [
    "problem.add_trajectory_constraint(Always(ontable(b)))"
   ]
  },
  {
   "cell_type": "code",
   "execution_count": 97,
   "metadata": {},
   "outputs": [
    {
     "name": "stdout",
     "output_type": "stream",
     "text": [
      "\u001b[96m  *** Credits ***\n",
      "\u001b[0m\u001b[96m  * In operation mode `OneshotPlanner` at line 3 of `/tmp/ipykernel_97815/4071567762.py`, \u001b[0m\u001b[96myou are using the following planning engine:\n",
      "\u001b[0m\u001b[96m  * Engine name: ENHSP\n",
      "  * Developers:  Enrico Scala\n",
      "\u001b[0m\u001b[96m  * Description: \u001b[0m\u001b[96mExpressive Numeric Heuristic Search Planner.\u001b[0m\u001b[96m\n",
      "\u001b[0m\u001b[96m\n",
      "\u001b[0mSAT-enhsp returned: [pick-up_c, stack_c_a]\n"
     ]
    }
   ],
   "source": [
    "traj_remover = TrajectoryConstraintsRemover()    \n",
    "new_problem = traj_remover.compile(problem, CompilationKind.TRAJECTORY_CONSTRAINTS_REMOVING).problem\n",
    "with OneshotPlanner(problem_kind=new_problem.kind) as planner:\n",
    "    result = planner.solve(new_problem)\n",
    "    print(\"%s returned: %s\" % (planner.name, result.plan))"
   ]
  },
  {
   "cell_type": "code",
   "execution_count": 98,
   "metadata": {},
   "outputs": [],
   "source": [
    "problem.add_trajectory_constraint(SometimeBefore(Exists(on(x, a), *[x]), on(c, d)))"
   ]
  },
  {
   "cell_type": "code",
   "execution_count": 99,
   "metadata": {},
   "outputs": [
    {
     "name": "stdout",
     "output_type": "stream",
     "text": [
      "\u001b[96m  *** Credits ***\n",
      "\u001b[0m\u001b[96m  * In operation mode `OneshotPlanner` at line 2 of `/tmp/ipykernel_97815/1216877520.py`, \u001b[0m\u001b[96myou are using the following planning engine:\n",
      "\u001b[0m\u001b[96m  * Engine name: ENHSP\n",
      "  * Developers:  Enrico Scala\n",
      "\u001b[0m\u001b[96m  * Description: \u001b[0m\u001b[96mExpressive Numeric Heuristic Search Planner.\u001b[0m\u001b[96m\n",
      "\u001b[0m\u001b[96m\n",
      "\u001b[0mSAT-enhsp returned: [pick-up_c, stack_c_d, unstack_c_d, stack_c_a]\n"
     ]
    }
   ],
   "source": [
    "new_problem = traj_remover.compile(problem, CompilationKind.TRAJECTORY_CONSTRAINTS_REMOVING).problem\n",
    "with OneshotPlanner(problem_kind=new_problem.kind) as planner:\n",
    "    result = planner.solve(new_problem)\n",
    "    print(\"%s returned: %s\" % (planner.name, result.plan))"
   ]
  },
  {
   "cell_type": "code",
   "execution_count": 101,
   "metadata": {},
   "outputs": [
    {
     "name": "stdout",
     "output_type": "stream",
     "text": [
      "\u001b[96m  *** Credits ***\n",
      "\u001b[0m\u001b[96m  * In operation mode `OneshotPlanner` at line 3 of `/tmp/ipykernel_97815/2187152149.py`, \u001b[0m\u001b[96myou are using the following planning engine:\n",
      "\u001b[0m\u001b[96m  * Engine name: ENHSP\n",
      "  * Developers:  Enrico Scala\n",
      "\u001b[0m\u001b[96m  * Description: \u001b[0m\u001b[96mExpressive Numeric Heuristic Search Planner.\u001b[0m\u001b[96m\n",
      "\u001b[0m\u001b[96m\n",
      "\u001b[0mSAT-enhsp returned: None\n"
     ]
    }
   ],
   "source": [
    "problem.add_trajectory_constraint(AtMostOnce(Exists(holding(x), *[x])))\n",
    "new_problem = traj_remover.compile(problem, CompilationKind.TRAJECTORY_CONSTRAINTS_REMOVING).problem\n",
    "with OneshotPlanner(problem_kind=new_problem.kind) as planner:\n",
    "    result = planner.solve(new_problem)\n",
    "    print(\"%s returned: %s\" % (planner.name, result.plan))"
   ]
  },
  {
   "cell_type": "code",
   "execution_count": 102,
   "metadata": {},
   "outputs": [
    {
     "data": {
      "text/plain": [
       "problem name = BLOCKS-4-0\n",
       "\n",
       "types = [block]\n",
       "\n",
       "fluents = [\n",
       "  bool on[x=block, y=block]\n",
       "  bool ontable[x=block]\n",
       "  bool clear[x=block]\n",
       "  bool handempty\n",
       "  bool holding[x=block]\n",
       "]\n",
       "\n",
       "actions = [\n",
       "  action pick-up(block x) {\n",
       "    preconditions = [\n",
       "      (clear(x) and ontable(x) and handempty)\n",
       "    ]\n",
       "    effects = [\n",
       "      ontable(x) := false\n",
       "      clear(x) := false\n",
       "      handempty := false\n",
       "      holding(x) := true\n",
       "    ]\n",
       "    simulated effect = None\n",
       "  }\n",
       "  action put-down(block x) {\n",
       "    preconditions = [\n",
       "      holding(x)\n",
       "    ]\n",
       "    effects = [\n",
       "      holding(x) := false\n",
       "      clear(x) := true\n",
       "      handempty := true\n",
       "      ontable(x) := true\n",
       "    ]\n",
       "    simulated effect = None\n",
       "  }\n",
       "  action stack(block x, block y) {\n",
       "    preconditions = [\n",
       "      (holding(x) and clear(y))\n",
       "    ]\n",
       "    effects = [\n",
       "      holding(x) := false\n",
       "      clear(y) := false\n",
       "      clear(x) := true\n",
       "      handempty := true\n",
       "      on(x, y) := true\n",
       "    ]\n",
       "    simulated effect = None\n",
       "  }\n",
       "  action unstack(block x, block y) {\n",
       "    preconditions = [\n",
       "      (on(x, y) and clear(x) and handempty)\n",
       "    ]\n",
       "    effects = [\n",
       "      holding(x) := true\n",
       "      clear(y) := true\n",
       "      clear(x) := false\n",
       "      handempty := false\n",
       "      on(x, y) := false\n",
       "    ]\n",
       "    simulated effect = None\n",
       "  }\n",
       "]\n",
       "\n",
       "objects = [\n",
       "  block: [d, b, a, c]\n",
       "]\n",
       "\n",
       "initial fluents default = [\n",
       "  bool on[x=block, y=block] := false\n",
       "  bool ontable[x=block] := false\n",
       "  bool clear[x=block] := false\n",
       "  bool handempty := false\n",
       "  bool holding[x=block] := false\n",
       "]\n",
       "\n",
       "initial values = [\n",
       "  clear(c) := true\n",
       "  clear(a) := true\n",
       "  clear(b) := true\n",
       "  clear(d) := true\n",
       "  ontable(c) := true\n",
       "  ontable(a) := true\n",
       "  ontable(b) := true\n",
       "  ontable(d) := true\n",
       "  handempty := true\n",
       "  on(d, d) := false\n",
       "  on(b, d) := false\n",
       "  on(a, d) := false\n",
       "  on(c, d) := false\n",
       "  on(d, b) := false\n",
       "  on(b, b) := false\n",
       "  on(a, b) := false\n",
       "  on(c, b) := false\n",
       "  on(d, a) := false\n",
       "  on(b, a) := false\n",
       "  on(a, a) := false\n",
       "  on(c, a) := false\n",
       "  on(d, c) := false\n",
       "  on(b, c) := false\n",
       "  on(a, c) := false\n",
       "  on(c, c) := false\n",
       "  holding(d) := false\n",
       "  holding(b) := false\n",
       "  holding(a) := false\n",
       "  holding(c) := false\n",
       "]\n",
       "\n",
       "goals = [\n",
       "]\n",
       "\n",
       "trajectory constraints = [\n",
       "  (At-Most-Once(Exists (block x) holding(x)) and Sometime-Before(Exists (block x) on(x, a), on(c, d)) and Always(ontable(b)) and Sometime(Exists (block x) on(x, a)))\n",
       "]\n"
      ]
     },
     "execution_count": 102,
     "metadata": {},
     "output_type": "execute_result"
    }
   ],
   "source": [
    "problem"
   ]
  }
 ],
 "metadata": {
  "kernelspec": {
   "display_name": "Python 3.8.12 ('luigi_planning')",
   "language": "python",
   "name": "python3"
  },
  "language_info": {
   "codemirror_mode": {
    "name": "ipython",
    "version": 3
   },
   "file_extension": ".py",
   "mimetype": "text/x-python",
   "name": "python",
   "nbconvert_exporter": "python",
   "pygments_lexer": "ipython3",
   "version": "3.8.12 (default, Oct 12 2021, 13:49:34) \n[GCC 7.5.0]"
  },
  "orig_nbformat": 4,
  "vscode": {
   "interpreter": {
    "hash": "7ba2f74e4db1820d708f0533f578f7524ef7c4299fdcf4d21b076e0a6921c1c4"
   }
  }
 },
 "nbformat": 4,
 "nbformat_minor": 2
}
